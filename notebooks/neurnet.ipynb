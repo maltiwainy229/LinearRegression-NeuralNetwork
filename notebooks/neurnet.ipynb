{
 "cells": [
  {
   "cell_type": "code",
   "execution_count": null,
   "id": "cbe3a649",
   "metadata": {},
   "outputs": [],
   "source": [
    "from tensorflow.keras.models import Sequential\n",
    "from tensorflow.keras.layers import Dense\n",
    "\n",
    "# Build a simple neural network\n",
    "nn_model = Sequential([\n",
    "    Dense(128, activation='relu', input_shape=[X_train.shape[1]]),\n",
    "    Dense(64, activation='relu'),\n",
    "    Dense(1)\n",
    "])\n",
    "\n",
    "nn_model.compile(optimizer='adam', loss='mse')\n",
    "nn_model.fit(X_train, y_train, epochs=10, validation_split=0.2)"
   ]
  },
  {
   "cell_type": "code",
   "execution_count": null,
   "id": "16ae840a",
   "metadata": {},
   "outputs": [],
   "source": [
    "nn_predictions = nn_model.predict(X_test)\n",
    "nn_mae = mean_absolute_error(y_test, nn_predictions)\n",
    "print(f\"Neural Network Mean Absolute Error: {nn_mae}\")"
   ]
  }
 ],
 "metadata": {
  "language_info": {
   "name": "python"
  }
 },
 "nbformat": 4,
 "nbformat_minor": 5
}
